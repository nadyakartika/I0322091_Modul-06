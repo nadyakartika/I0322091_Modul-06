{
 "cells": [
  {
   "attachments": {},
   "cell_type": "markdown",
   "metadata": {},
   "source": [
    "1. Tulis program dengan fungsi untuk menentukan angka yang paling kecil dari tiga angka yang diberikan!\n",
    "     ###### Note: Angka ditentukan sendiri oleh praktikan"
   ]
  },
  {
   "cell_type": "code",
   "execution_count": null,
   "metadata": {},
   "outputs": [],
   "source": [
    "# Kerjakan Nomor 1 di bawah ini\n",
    "\n",
    "a = [-321312323231, -13213112323,31,2,3122,312]\n",
    "\n",
    "def b(c):\n",
    "    x = min(c)\n",
    "    print(x)\n",
    "\n",
    "b(a)\n",
    "\n",
    "def x(r,s,t):\n",
    "    if r<s:\n",
    "        min = r\n",
    "    elif s<t:\n",
    "        min = s\n",
    "    else:\n",
    "        min = t\n",
    "    return min\n",
    "\n",
    "print(x(123122,313,213))\n"
   ]
  },
  {
   "attachments": {},
   "cell_type": "markdown",
   "metadata": {},
   "source": [
    "2. Tulis fungsi Python yang mengambil list awal dan menampilkan list baru dengan angka unik (tidak ada angka yang sama) dari list yang pertama."
   ]
  },
  {
   "cell_type": "code",
   "execution_count": null,
   "metadata": {},
   "outputs": [],
   "source": [
    "list_awal = [20,20,20,20,20,21,21,22,25,26,26,27,29,29,29,30]"
   ]
  },
  {
   "cell_type": "code",
   "execution_count": null,
   "metadata": {},
   "outputs": [],
   "source": [
    "# Kerjakan Nomor 2 di bawah ini\n",
    "\n",
    "list_awal = [20,20,20,20,20,21,21,22,25,26,26,27,29,29,29,30]\n",
    "\n",
    "import random\n",
    "list_baru = []\n",
    "\n",
    "for i in range(0, 35):\n",
    "    if i in list_awal:\n",
    "        continue\n",
    "    list_baru.append(i)\n",
    "print(list_baru)"
   ]
  },
  {
   "attachments": {},
   "cell_type": "markdown",
   "metadata": {},
   "source": [
    "3. Cari dan tampilkan bilangan genap yang ada pada list dibawah ini menggunakan fungsi built-in (wajib memakai fungsi lambda) dan tampilkan dalam format menurun (menggunakan perulangan)! "
   ]
  },
  {
   "cell_type": "code",
   "execution_count": null,
   "metadata": {},
   "outputs": [],
   "source": [
    "list_angka = [3,7,4,1,13,6,9,8,15,18,21]"
   ]
  },
  {
   "cell_type": "code",
   "execution_count": null,
   "metadata": {},
   "outputs": [],
   "source": [
    "#Kerjakan nomor 3 di kolom ini\n",
    "\n",
    "list_angka = [3,7,4,1,13,6,9,8,15,18,21]\n",
    "\n",
    "a = lambda x: x%2 == 0\n",
    "\n",
    "for i in list_angka:\n",
    "    z = a(i)\n",
    "    if z == True:\n",
    "        print(i)\n",
    "    else:\n",
    "        continue"
   ]
  }
 ],
 "metadata": {
  "kernelspec": {
   "display_name": "Python 3",
   "language": "python",
   "name": "python3"
  },
  "language_info": {
   "codemirror_mode": {
    "name": "ipython",
    "version": 3
   },
   "file_extension": ".py",
   "mimetype": "text/x-python",
   "name": "python",
   "nbconvert_exporter": "python",
   "pygments_lexer": "ipython3",
   "version": "3.9.0 (tags/v3.9.0:9cf6752, Oct  5 2020, 15:34:40) [MSC v.1927 64 bit (AMD64)]"
  },
  "orig_nbformat": 4,
  "vscode": {
   "interpreter": {
    "hash": "5addf786bcd861d1ce5006f23111f8cbb206731e5b61b0a5632ba9e0252558a8"
   }
  }
 },
 "nbformat": 4,
 "nbformat_minor": 2
}
